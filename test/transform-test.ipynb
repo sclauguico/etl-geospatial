{
 "cells": [
  {
   "cell_type": "code",
   "execution_count": 1,
   "metadata": {},
   "outputs": [],
   "source": [
    "import pandas as pd"
   ]
  },
  {
   "cell_type": "markdown",
   "metadata": {},
   "source": [
    "### Transform province and population data"
   ]
  },
  {
   "cell_type": "code",
   "execution_count": 3,
   "metadata": {},
   "outputs": [
    {
     "data": {
      "text/html": [
       "<div>\n",
       "<style scoped>\n",
       "    .dataframe tbody tr th:only-of-type {\n",
       "        vertical-align: middle;\n",
       "    }\n",
       "\n",
       "    .dataframe tbody tr th {\n",
       "        vertical-align: top;\n",
       "    }\n",
       "\n",
       "    .dataframe thead th {\n",
       "        text-align: right;\n",
       "    }\n",
       "</style>\n",
       "<table border=\"1\" class=\"dataframe\">\n",
       "  <thead>\n",
       "    <tr style=\"text-align: right;\">\n",
       "      <th></th>\n",
       "      <th>Province</th>\n",
       "      <th>Population</th>\n",
       "    </tr>\n",
       "  </thead>\n",
       "  <tbody>\n",
       "    <tr>\n",
       "      <th>0</th>\n",
       "      <td>Metro Manila</td>\n",
       "      <td>13,484,462</td>\n",
       "    </tr>\n",
       "    <tr>\n",
       "      <th>1</th>\n",
       "      <td>Cebu</td>\n",
       "      <td>5,151,274</td>\n",
       "    </tr>\n",
       "    <tr>\n",
       "      <th>2</th>\n",
       "      <td>Cavite</td>\n",
       "      <td>4,344,829</td>\n",
       "    </tr>\n",
       "    <tr>\n",
       "      <th>3</th>\n",
       "      <td>Bulacan</td>\n",
       "      <td>3,708,890</td>\n",
       "    </tr>\n",
       "    <tr>\n",
       "      <th>4</th>\n",
       "      <td>Laguna</td>\n",
       "      <td>3,382,193</td>\n",
       "    </tr>\n",
       "  </tbody>\n",
       "</table>\n",
       "</div>"
      ],
      "text/plain": [
       "       Province  Population\n",
       "0  Metro Manila  13,484,462\n",
       "1          Cebu   5,151,274\n",
       "2        Cavite   4,344,829\n",
       "3       Bulacan   3,708,890\n",
       "4        Laguna   3,382,193"
      ]
     },
     "execution_count": 3,
     "metadata": {},
     "output_type": "execute_result"
    }
   ],
   "source": [
    "df_prov_pop = pd.read_csv(\"extracted_data/province_population.csv\")\n",
    "df_prov_pop.head()"
   ]
  },
  {
   "cell_type": "code",
   "execution_count": 4,
   "metadata": {},
   "outputs": [
    {
     "data": {
      "text/plain": [
       "Province           Population \n",
       "Abra               250,985        1\n",
       "Philippines        109,033,245    1\n",
       "Pampanga           2,900,637      1\n",
       "Palawan            1,246,673      1\n",
       "Oriental Mindoro   908,339        1\n",
       "                                 ..\n",
       "Davao Occidental   317,159        1\n",
       "Cotabato           1,490,618      1\n",
       "Cebu               5,151,274      1\n",
       "Cavite             4,344,829      1\n",
       "Zamboanga del Sur  2,027,902      1\n",
       "Name: count, Length: 83, dtype: int64"
      ]
     },
     "execution_count": 4,
     "metadata": {},
     "output_type": "execute_result"
    }
   ],
   "source": [
    "df_prov_pop.value_counts()"
   ]
  },
  {
   "cell_type": "code",
   "execution_count": 6,
   "metadata": {},
   "outputs": [
    {
     "data": {
      "text/plain": [
       "array(['Metro Manila', 'Cebu', 'Cavite', 'Bulacan', 'Laguna', 'Rizal',\n",
       "       'Negros Occidental', 'Pangasinan', 'Batangas', 'Pampanga',\n",
       "       'Iloilo', 'Davao del Sur', 'Nueva Ecija', 'Quezon',\n",
       "       'Camarines Sur', 'Leyte', 'Zamboanga del Sur', 'Isabela',\n",
       "       'Misamis Oriental', 'South Cotabato', 'Maguindanao', 'Bukidnon',\n",
       "       'Tarlac', 'Cotabato', 'Negros Oriental', 'Bohol', 'Albay',\n",
       "       'Cagayan', 'Palawan', 'Lanao del Sur', 'Davao del Norte',\n",
       "       'Lanao del Norte', 'Zamboanga del Norte', 'Sulu', 'Zambales',\n",
       "       'Masbate', 'Oriental Mindoro', 'Sultan Kudarat', 'Bataan',\n",
       "       'Sorsogon', 'Benguet', 'La Union', 'Capiz', 'Samar',\n",
       "       'Davao de Oro', 'Agusan del Norte', 'Agusan del Sur', 'Ilocos Sur',\n",
       "       'Zamboanga Sibugay', 'Surigao del Sur', 'Northern Samar',\n",
       "       'Camarines Norte', 'Misamis Occidental', 'Aklan', 'Antique',\n",
       "       'Ilocos Norte', 'Davao Oriental', 'Sarangani', 'Basilan',\n",
       "       'Surigao del Norte', 'Occidental Mindoro', 'Nueva Vizcaya',\n",
       "       'Eastern Samar', 'Tawi-tawi', 'Southern Leyte', 'Davao Occidental',\n",
       "       'Romblon', 'Catanduanes', 'Abra', 'Marinduque', 'Aurora',\n",
       "       'Kalinga', 'Ifugao', 'Quirino', 'Guimaras', 'Biliran',\n",
       "       'Mountain Province', 'Dinagat Islands', 'Apayao', 'Siquijor',\n",
       "       'Camiguin', 'Batanes', 'Philippines'], dtype=object)"
      ]
     },
     "execution_count": 6,
     "metadata": {},
     "output_type": "execute_result"
    }
   ],
   "source": [
    "df_prov_pop['Province'].unique()"
   ]
  },
  {
   "cell_type": "code",
   "execution_count": 7,
   "metadata": {},
   "outputs": [
    {
     "data": {
      "text/plain": [
       "array(['Metro Manila', 'Cebu', 'Cavite', 'Bulacan', 'Laguna', 'Rizal',\n",
       "       'Negros Occidental', 'Pangasinan', 'Batangas', 'Pampanga',\n",
       "       'Iloilo', 'Davao del Sur', 'Nueva Ecija', 'Quezon',\n",
       "       'Camarines Sur', 'Leyte', 'Zamboanga del Sur', 'Isabela',\n",
       "       'Misamis Oriental', 'South Cotabato', 'Maguindanao', 'Bukidnon',\n",
       "       'Tarlac', 'Cotabato', 'Negros Oriental', 'Bohol', 'Albay',\n",
       "       'Cagayan', 'Palawan', 'Lanao del Sur', 'Davao del Norte',\n",
       "       'Lanao del Norte', 'Zamboanga del Norte', 'Sulu', 'Zambales',\n",
       "       'Masbate', 'Oriental Mindoro', 'Sultan Kudarat', 'Bataan',\n",
       "       'Sorsogon', 'Benguet', 'La Union', 'Capiz', 'Samar',\n",
       "       'Davao de Oro', 'Agusan del Norte', 'Agusan del Sur', 'Ilocos Sur',\n",
       "       'Zamboanga Sibugay', 'Surigao del Sur', 'Northern Samar',\n",
       "       'Camarines Norte', 'Misamis Occidental', 'Aklan', 'Antique',\n",
       "       'Ilocos Norte', 'Davao Oriental', 'Sarangani', 'Basilan',\n",
       "       'Surigao del Norte', 'Occidental Mindoro', 'Nueva Vizcaya',\n",
       "       'Eastern Samar', 'Tawi-tawi', 'Southern Leyte', 'Davao Occidental',\n",
       "       'Romblon', 'Catanduanes', 'Abra', 'Marinduque', 'Aurora',\n",
       "       'Kalinga', 'Ifugao', 'Quirino', 'Guimaras', 'Biliran',\n",
       "       'Mountain Province', 'Dinagat Islands', 'Apayao', 'Siquijor',\n",
       "       'Camiguin', 'Batanes'], dtype=object)"
      ]
     },
     "execution_count": 7,
     "metadata": {},
     "output_type": "execute_result"
    }
   ],
   "source": [
    "df_prov_pop = df_prov_pop[df_prov_pop.Province != \"Philippines\"]\n",
    "df_prov_pop['Province'].unique()"
   ]
  },
  {
   "cell_type": "code",
   "execution_count": 10,
   "metadata": {},
   "outputs": [
    {
     "data": {
      "text/plain": [
       "Province      object\n",
       "Population    object\n",
       "dtype: object"
      ]
     },
     "execution_count": 10,
     "metadata": {},
     "output_type": "execute_result"
    }
   ],
   "source": [
    "df_prov_pop.dtypes"
   ]
  },
  {
   "cell_type": "code",
   "execution_count": 11,
   "metadata": {},
   "outputs": [
    {
     "name": "stderr",
     "output_type": "stream",
     "text": [
      "C:\\Users\\Sandy Lauguico\\AppData\\Local\\Temp\\ipykernel_107548\\2996649149.py:1: SettingWithCopyWarning: \n",
      "A value is trying to be set on a copy of a slice from a DataFrame.\n",
      "Try using .loc[row_indexer,col_indexer] = value instead\n",
      "\n",
      "See the caveats in the documentation: https://pandas.pydata.org/pandas-docs/stable/user_guide/indexing.html#returning-a-view-versus-a-copy\n",
      "  df_prov_pop['Population'] = df_prov_pop['Population'].str.replace(',','')\n"
     ]
    },
    {
     "data": {
      "text/html": [
       "<div>\n",
       "<style scoped>\n",
       "    .dataframe tbody tr th:only-of-type {\n",
       "        vertical-align: middle;\n",
       "    }\n",
       "\n",
       "    .dataframe tbody tr th {\n",
       "        vertical-align: top;\n",
       "    }\n",
       "\n",
       "    .dataframe thead th {\n",
       "        text-align: right;\n",
       "    }\n",
       "</style>\n",
       "<table border=\"1\" class=\"dataframe\">\n",
       "  <thead>\n",
       "    <tr style=\"text-align: right;\">\n",
       "      <th></th>\n",
       "      <th>Province</th>\n",
       "      <th>Population</th>\n",
       "    </tr>\n",
       "  </thead>\n",
       "  <tbody>\n",
       "    <tr>\n",
       "      <th>0</th>\n",
       "      <td>Metro Manila</td>\n",
       "      <td>13484462</td>\n",
       "    </tr>\n",
       "    <tr>\n",
       "      <th>1</th>\n",
       "      <td>Cebu</td>\n",
       "      <td>5151274</td>\n",
       "    </tr>\n",
       "    <tr>\n",
       "      <th>2</th>\n",
       "      <td>Cavite</td>\n",
       "      <td>4344829</td>\n",
       "    </tr>\n",
       "    <tr>\n",
       "      <th>3</th>\n",
       "      <td>Bulacan</td>\n",
       "      <td>3708890</td>\n",
       "    </tr>\n",
       "    <tr>\n",
       "      <th>4</th>\n",
       "      <td>Laguna</td>\n",
       "      <td>3382193</td>\n",
       "    </tr>\n",
       "  </tbody>\n",
       "</table>\n",
       "</div>"
      ],
      "text/plain": [
       "       Province Population\n",
       "0  Metro Manila   13484462\n",
       "1          Cebu    5151274\n",
       "2        Cavite    4344829\n",
       "3       Bulacan    3708890\n",
       "4        Laguna    3382193"
      ]
     },
     "execution_count": 11,
     "metadata": {},
     "output_type": "execute_result"
    }
   ],
   "source": [
    "df_prov_pop['Population'] = df_prov_pop['Population'].str.replace(',','')\n",
    "\n",
    "df_prov_pop.head()"
   ]
  },
  {
   "cell_type": "code",
   "execution_count": 12,
   "metadata": {},
   "outputs": [
    {
     "data": {
      "text/plain": [
       "Province      object\n",
       "Population    object\n",
       "dtype: object"
      ]
     },
     "execution_count": 12,
     "metadata": {},
     "output_type": "execute_result"
    }
   ],
   "source": [
    "df_prov_pop.dtypes"
   ]
  },
  {
   "cell_type": "code",
   "execution_count": 13,
   "metadata": {},
   "outputs": [
    {
     "name": "stderr",
     "output_type": "stream",
     "text": [
      "C:\\Users\\Sandy Lauguico\\AppData\\Local\\Temp\\ipykernel_107548\\2314577671.py:1: SettingWithCopyWarning: \n",
      "A value is trying to be set on a copy of a slice from a DataFrame.\n",
      "Try using .loc[row_indexer,col_indexer] = value instead\n",
      "\n",
      "See the caveats in the documentation: https://pandas.pydata.org/pandas-docs/stable/user_guide/indexing.html#returning-a-view-versus-a-copy\n",
      "  df_prov_pop[\"Population\"] = df_prov_pop[\"Population\"].astype('int')\n"
     ]
    }
   ],
   "source": [
    "df_prov_pop[\"Population\"] = df_prov_pop[\"Population\"].astype('int')"
   ]
  },
  {
   "cell_type": "code",
   "execution_count": 14,
   "metadata": {},
   "outputs": [
    {
     "data": {
      "text/plain": [
       "Province      object\n",
       "Population     int32\n",
       "dtype: object"
      ]
     },
     "execution_count": 14,
     "metadata": {},
     "output_type": "execute_result"
    }
   ],
   "source": [
    "df_prov_pop.dtypes"
   ]
  },
  {
   "cell_type": "code",
   "execution_count": 31,
   "metadata": {},
   "outputs": [
    {
     "data": {
      "text/html": [
       "<div>\n",
       "<style scoped>\n",
       "    .dataframe tbody tr th:only-of-type {\n",
       "        vertical-align: middle;\n",
       "    }\n",
       "\n",
       "    .dataframe tbody tr th {\n",
       "        vertical-align: top;\n",
       "    }\n",
       "\n",
       "    .dataframe thead th {\n",
       "        text-align: right;\n",
       "    }\n",
       "</style>\n",
       "<table border=\"1\" class=\"dataframe\">\n",
       "  <thead>\n",
       "    <tr style=\"text-align: right;\">\n",
       "      <th></th>\n",
       "      <th>province</th>\n",
       "      <th>population</th>\n",
       "    </tr>\n",
       "  </thead>\n",
       "  <tbody>\n",
       "    <tr>\n",
       "      <th>0</th>\n",
       "      <td>Metro Manila</td>\n",
       "      <td>13484462</td>\n",
       "    </tr>\n",
       "    <tr>\n",
       "      <th>1</th>\n",
       "      <td>Cebu</td>\n",
       "      <td>5151274</td>\n",
       "    </tr>\n",
       "    <tr>\n",
       "      <th>2</th>\n",
       "      <td>Cavite</td>\n",
       "      <td>4344829</td>\n",
       "    </tr>\n",
       "    <tr>\n",
       "      <th>3</th>\n",
       "      <td>Bulacan</td>\n",
       "      <td>3708890</td>\n",
       "    </tr>\n",
       "    <tr>\n",
       "      <th>4</th>\n",
       "      <td>Laguna</td>\n",
       "      <td>3382193</td>\n",
       "    </tr>\n",
       "  </tbody>\n",
       "</table>\n",
       "</div>"
      ],
      "text/plain": [
       "       province  population\n",
       "0  Metro Manila    13484462\n",
       "1          Cebu     5151274\n",
       "2        Cavite     4344829\n",
       "3       Bulacan     3708890\n",
       "4        Laguna     3382193"
      ]
     },
     "execution_count": 31,
     "metadata": {},
     "output_type": "execute_result"
    }
   ],
   "source": [
    "df_prov_pop.columns = [x.lower() for x in df_prov_pop.columns]\n",
    "df_prov_pop.columns = df_prov_pop.columns.str.replace(\"[ ]\", \"_\", regex=True)\n",
    "df_prov_pop.head()"
   ]
  },
  {
   "cell_type": "code",
   "execution_count": 34,
   "metadata": {},
   "outputs": [],
   "source": [
    "df_prov_pop.to_csv(\"transformed_data/province_population.csv\", index = False)"
   ]
  },
  {
   "cell_type": "markdown",
   "metadata": {},
   "source": [
    "### Transform coordinates data"
   ]
  },
  {
   "cell_type": "code",
   "execution_count": 29,
   "metadata": {},
   "outputs": [
    {
     "data": {
      "text/html": [
       "<div>\n",
       "<style scoped>\n",
       "    .dataframe tbody tr th:only-of-type {\n",
       "        vertical-align: middle;\n",
       "    }\n",
       "\n",
       "    .dataframe tbody tr th {\n",
       "        vertical-align: top;\n",
       "    }\n",
       "\n",
       "    .dataframe thead th {\n",
       "        text-align: right;\n",
       "    }\n",
       "</style>\n",
       "<table border=\"1\" class=\"dataframe\">\n",
       "  <thead>\n",
       "    <tr style=\"text-align: right;\">\n",
       "      <th></th>\n",
       "      <th>Latitude</th>\n",
       "      <th>Longitude</th>\n",
       "    </tr>\n",
       "  </thead>\n",
       "  <tbody>\n",
       "    <tr>\n",
       "      <th>78</th>\n",
       "      <td>18.089133</td>\n",
       "      <td>121.193152</td>\n",
       "    </tr>\n",
       "    <tr>\n",
       "      <th>79</th>\n",
       "      <td>9.213120</td>\n",
       "      <td>123.515480</td>\n",
       "    </tr>\n",
       "    <tr>\n",
       "      <th>80</th>\n",
       "      <td>9.172630</td>\n",
       "      <td>124.719122</td>\n",
       "    </tr>\n",
       "    <tr>\n",
       "      <th>81</th>\n",
       "      <td>20.760404</td>\n",
       "      <td>121.836337</td>\n",
       "    </tr>\n",
       "    <tr>\n",
       "      <th>82</th>\n",
       "      <td>14.164863</td>\n",
       "      <td>120.861630</td>\n",
       "    </tr>\n",
       "  </tbody>\n",
       "</table>\n",
       "</div>"
      ],
      "text/plain": [
       "     Latitude   Longitude\n",
       "78  18.089133  121.193152\n",
       "79   9.213120  123.515480\n",
       "80   9.172630  124.719122\n",
       "81  20.760404  121.836337\n",
       "82  14.164863  120.861630"
      ]
     },
     "execution_count": 29,
     "metadata": {},
     "output_type": "execute_result"
    }
   ],
   "source": [
    "df_coordinates = pd.read_csv(\"extracted_data/province_coordinates.csv\")\n",
    "df_coordinates.tail()"
   ]
  },
  {
   "cell_type": "code",
   "execution_count": 18,
   "metadata": {},
   "outputs": [
    {
     "data": {
      "text/plain": [
       "Latitude     float64\n",
       "Longitude    float64\n",
       "dtype: object"
      ]
     },
     "execution_count": 18,
     "metadata": {},
     "output_type": "execute_result"
    }
   ],
   "source": [
    "df_coordinates.dtypes"
   ]
  },
  {
   "cell_type": "code",
   "execution_count": 33,
   "metadata": {},
   "outputs": [
    {
     "data": {
      "text/html": [
       "<div>\n",
       "<style scoped>\n",
       "    .dataframe tbody tr th:only-of-type {\n",
       "        vertical-align: middle;\n",
       "    }\n",
       "\n",
       "    .dataframe tbody tr th {\n",
       "        vertical-align: top;\n",
       "    }\n",
       "\n",
       "    .dataframe thead th {\n",
       "        text-align: right;\n",
       "    }\n",
       "</style>\n",
       "<table border=\"1\" class=\"dataframe\">\n",
       "  <thead>\n",
       "    <tr style=\"text-align: right;\">\n",
       "      <th></th>\n",
       "      <th>province</th>\n",
       "      <th>latitude</th>\n",
       "      <th>longitude</th>\n",
       "    </tr>\n",
       "  </thead>\n",
       "  <tbody>\n",
       "    <tr>\n",
       "      <th>0</th>\n",
       "      <td>Metro Manila</td>\n",
       "      <td>14.606798</td>\n",
       "      <td>121.032457</td>\n",
       "    </tr>\n",
       "    <tr>\n",
       "      <th>1</th>\n",
       "      <td>Cebu</td>\n",
       "      <td>10.299220</td>\n",
       "      <td>123.896190</td>\n",
       "    </tr>\n",
       "    <tr>\n",
       "      <th>2</th>\n",
       "      <td>Cavite</td>\n",
       "      <td>14.256197</td>\n",
       "      <td>120.870039</td>\n",
       "    </tr>\n",
       "    <tr>\n",
       "      <th>3</th>\n",
       "      <td>Bulacan</td>\n",
       "      <td>14.781080</td>\n",
       "      <td>120.878340</td>\n",
       "    </tr>\n",
       "    <tr>\n",
       "      <th>4</th>\n",
       "      <td>Laguna</td>\n",
       "      <td>14.239511</td>\n",
       "      <td>121.360971</td>\n",
       "    </tr>\n",
       "  </tbody>\n",
       "</table>\n",
       "</div>"
      ],
      "text/plain": [
       "       province   latitude   longitude\n",
       "0  Metro Manila  14.606798  121.032457\n",
       "1          Cebu  10.299220  123.896190\n",
       "2        Cavite  14.256197  120.870039\n",
       "3       Bulacan  14.781080  120.878340\n",
       "4        Laguna  14.239511  121.360971"
      ]
     },
     "execution_count": 33,
     "metadata": {},
     "output_type": "execute_result"
    }
   ],
   "source": [
    "df_prov_coordinates = pd.DataFrame(columns=['province','latitude', 'longitude'])\n",
    "\n",
    "df_prov_coordinates[\"province\"] = df_prov_pop.province\n",
    "df_prov_coordinates[\"latitude\"] = df_coordinates.Latitude\n",
    "df_prov_coordinates[\"longitude\"] = df_coordinates.Longitude\n",
    "\n",
    "df_prov_coordinates.head()"
   ]
  },
  {
   "cell_type": "code",
   "execution_count": 26,
   "metadata": {},
   "outputs": [
    {
     "data": {
      "text/plain": [
       "Province     0\n",
       "Latitude     0\n",
       "Longitude    0\n",
       "dtype: int64"
      ]
     },
     "execution_count": 26,
     "metadata": {},
     "output_type": "execute_result"
    }
   ],
   "source": [
    "# Determine if there are missing values\n",
    "df_prov_coordinates.isnull().sum()"
   ]
  },
  {
   "cell_type": "code",
   "execution_count": null,
   "metadata": {},
   "outputs": [],
   "source": []
  }
 ],
 "metadata": {
  "kernelspec": {
   "display_name": "base",
   "language": "python",
   "name": "python3"
  },
  "language_info": {
   "codemirror_mode": {
    "name": "ipython",
    "version": 3
   },
   "file_extension": ".py",
   "mimetype": "text/x-python",
   "name": "python",
   "nbconvert_exporter": "python",
   "pygments_lexer": "ipython3",
   "version": "3.11.5"
  }
 },
 "nbformat": 4,
 "nbformat_minor": 2
}
