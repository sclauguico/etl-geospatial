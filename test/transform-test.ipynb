{
 "cells": [
  {
   "cell_type": "code",
   "execution_count": 62,
   "metadata": {},
   "outputs": [],
   "source": [
    "import pandas as pd"
   ]
  },
  {
   "cell_type": "markdown",
   "metadata": {},
   "source": [
    "### Transform province and population data"
   ]
  },
  {
   "cell_type": "code",
   "execution_count": 63,
   "metadata": {},
   "outputs": [
    {
     "data": {
      "text/html": [
       "<div>\n",
       "<style scoped>\n",
       "    .dataframe tbody tr th:only-of-type {\n",
       "        vertical-align: middle;\n",
       "    }\n",
       "\n",
       "    .dataframe tbody tr th {\n",
       "        vertical-align: top;\n",
       "    }\n",
       "\n",
       "    .dataframe thead th {\n",
       "        text-align: right;\n",
       "    }\n",
       "</style>\n",
       "<table border=\"1\" class=\"dataframe\">\n",
       "  <thead>\n",
       "    <tr style=\"text-align: right;\">\n",
       "      <th></th>\n",
       "      <th>Province</th>\n",
       "      <th>Population</th>\n",
       "    </tr>\n",
       "  </thead>\n",
       "  <tbody>\n",
       "    <tr>\n",
       "      <th>0</th>\n",
       "      <td>Metro Manila</td>\n",
       "      <td>13,484,462</td>\n",
       "    </tr>\n",
       "    <tr>\n",
       "      <th>1</th>\n",
       "      <td>Cebu</td>\n",
       "      <td>5,151,274</td>\n",
       "    </tr>\n",
       "    <tr>\n",
       "      <th>2</th>\n",
       "      <td>Cavite</td>\n",
       "      <td>4,344,829</td>\n",
       "    </tr>\n",
       "    <tr>\n",
       "      <th>3</th>\n",
       "      <td>Bulacan</td>\n",
       "      <td>3,708,890</td>\n",
       "    </tr>\n",
       "    <tr>\n",
       "      <th>4</th>\n",
       "      <td>Laguna</td>\n",
       "      <td>3,382,193</td>\n",
       "    </tr>\n",
       "  </tbody>\n",
       "</table>\n",
       "</div>"
      ],
      "text/plain": [
       "       Province  Population\n",
       "0  Metro Manila  13,484,462\n",
       "1          Cebu   5,151,274\n",
       "2        Cavite   4,344,829\n",
       "3       Bulacan   3,708,890\n",
       "4        Laguna   3,382,193"
      ]
     },
     "execution_count": 63,
     "metadata": {},
     "output_type": "execute_result"
    }
   ],
   "source": [
    "df_prov_pop = pd.read_csv(\"extracted_data/province_population.csv\")\n",
    "df_prov_pop.head()"
   ]
  },
  {
   "cell_type": "code",
   "execution_count": 64,
   "metadata": {},
   "outputs": [
    {
     "data": {
      "text/plain": [
       "Province           Population \n",
       "Abra               250,985        1\n",
       "Philippines        109,033,245    1\n",
       "Pampanga           2,900,637      1\n",
       "Palawan            1,246,673      1\n",
       "Oriental Mindoro   908,339        1\n",
       "                                 ..\n",
       "Davao Occidental   317,159        1\n",
       "Cotabato           1,490,618      1\n",
       "Cebu               5,151,274      1\n",
       "Cavite             4,344,829      1\n",
       "Zamboanga del Sur  2,027,902      1\n",
       "Name: count, Length: 83, dtype: int64"
      ]
     },
     "execution_count": 64,
     "metadata": {},
     "output_type": "execute_result"
    }
   ],
   "source": [
    "df_prov_pop.value_counts()"
   ]
  },
  {
   "cell_type": "code",
   "execution_count": 65,
   "metadata": {},
   "outputs": [
    {
     "data": {
      "text/plain": [
       "array(['Metro Manila', 'Cebu', 'Cavite', 'Bulacan', 'Laguna', 'Rizal',\n",
       "       'Negros Occidental', 'Pangasinan', 'Batangas', 'Pampanga',\n",
       "       'Iloilo', 'Davao del Sur', 'Nueva Ecija', 'Quezon',\n",
       "       'Camarines Sur', 'Leyte', 'Zamboanga del Sur', 'Isabela',\n",
       "       'Misamis Oriental', 'South Cotabato', 'Maguindanao', 'Bukidnon',\n",
       "       'Tarlac', 'Cotabato', 'Negros Oriental', 'Bohol', 'Albay',\n",
       "       'Cagayan', 'Palawan', 'Lanao del Sur', 'Davao del Norte',\n",
       "       'Lanao del Norte', 'Zamboanga del Norte', 'Sulu', 'Zambales',\n",
       "       'Masbate', 'Oriental Mindoro', 'Sultan Kudarat', 'Bataan',\n",
       "       'Sorsogon', 'Benguet', 'La Union', 'Capiz', 'Samar',\n",
       "       'Davao de Oro', 'Agusan del Norte', 'Agusan del Sur', 'Ilocos Sur',\n",
       "       'Zamboanga Sibugay', 'Surigao del Sur', 'Northern Samar',\n",
       "       'Camarines Norte', 'Misamis Occidental', 'Aklan', 'Antique',\n",
       "       'Ilocos Norte', 'Davao Oriental', 'Sarangani', 'Basilan',\n",
       "       'Surigao del Norte', 'Occidental Mindoro', 'Nueva Vizcaya',\n",
       "       'Eastern Samar', 'Tawi-tawi', 'Southern Leyte', 'Davao Occidental',\n",
       "       'Romblon', 'Catanduanes', 'Abra', 'Marinduque', 'Aurora',\n",
       "       'Kalinga', 'Ifugao', 'Quirino', 'Guimaras', 'Biliran',\n",
       "       'Mountain Province', 'Dinagat Islands', 'Apayao', 'Siquijor',\n",
       "       'Camiguin', 'Batanes', 'Philippines'], dtype=object)"
      ]
     },
     "execution_count": 65,
     "metadata": {},
     "output_type": "execute_result"
    }
   ],
   "source": [
    "df_prov_pop['Province'].unique()"
   ]
  },
  {
   "cell_type": "code",
   "execution_count": 66,
   "metadata": {},
   "outputs": [
    {
     "data": {
      "text/plain": [
       "array(['Metro Manila', 'Cebu', 'Cavite', 'Bulacan', 'Laguna', 'Rizal',\n",
       "       'Negros Occidental', 'Pangasinan', 'Batangas', 'Pampanga',\n",
       "       'Iloilo', 'Davao del Sur', 'Nueva Ecija', 'Quezon',\n",
       "       'Camarines Sur', 'Leyte', 'Zamboanga del Sur', 'Isabela',\n",
       "       'Misamis Oriental', 'South Cotabato', 'Maguindanao', 'Bukidnon',\n",
       "       'Tarlac', 'Cotabato', 'Negros Oriental', 'Bohol', 'Albay',\n",
       "       'Cagayan', 'Palawan', 'Lanao del Sur', 'Davao del Norte',\n",
       "       'Lanao del Norte', 'Zamboanga del Norte', 'Sulu', 'Zambales',\n",
       "       'Masbate', 'Oriental Mindoro', 'Sultan Kudarat', 'Bataan',\n",
       "       'Sorsogon', 'Benguet', 'La Union', 'Capiz', 'Samar',\n",
       "       'Davao de Oro', 'Agusan del Norte', 'Agusan del Sur', 'Ilocos Sur',\n",
       "       'Zamboanga Sibugay', 'Surigao del Sur', 'Northern Samar',\n",
       "       'Camarines Norte', 'Misamis Occidental', 'Aklan', 'Antique',\n",
       "       'Ilocos Norte', 'Davao Oriental', 'Sarangani', 'Basilan',\n",
       "       'Surigao del Norte', 'Occidental Mindoro', 'Nueva Vizcaya',\n",
       "       'Eastern Samar', 'Tawi-tawi', 'Southern Leyte', 'Davao Occidental',\n",
       "       'Romblon', 'Catanduanes', 'Abra', 'Marinduque', 'Aurora',\n",
       "       'Kalinga', 'Ifugao', 'Quirino', 'Guimaras', 'Biliran',\n",
       "       'Mountain Province', 'Dinagat Islands', 'Apayao', 'Siquijor',\n",
       "       'Camiguin', 'Batanes'], dtype=object)"
      ]
     },
     "execution_count": 66,
     "metadata": {},
     "output_type": "execute_result"
    }
   ],
   "source": [
    "df_prov_pop = df_prov_pop[df_prov_pop.Province != \"Philippines\"]\n",
    "df_prov_pop['Province'].unique()"
   ]
  },
  {
   "cell_type": "code",
   "execution_count": 67,
   "metadata": {},
   "outputs": [
    {
     "data": {
      "text/plain": [
       "Province      object\n",
       "Population    object\n",
       "dtype: object"
      ]
     },
     "execution_count": 67,
     "metadata": {},
     "output_type": "execute_result"
    }
   ],
   "source": [
    "df_prov_pop.dtypes"
   ]
  },
  {
   "cell_type": "code",
   "execution_count": 68,
   "metadata": {},
   "outputs": [
    {
     "data": {
      "text/html": [
       "<div>\n",
       "<style scoped>\n",
       "    .dataframe tbody tr th:only-of-type {\n",
       "        vertical-align: middle;\n",
       "    }\n",
       "\n",
       "    .dataframe tbody tr th {\n",
       "        vertical-align: top;\n",
       "    }\n",
       "\n",
       "    .dataframe thead th {\n",
       "        text-align: right;\n",
       "    }\n",
       "</style>\n",
       "<table border=\"1\" class=\"dataframe\">\n",
       "  <thead>\n",
       "    <tr style=\"text-align: right;\">\n",
       "      <th></th>\n",
       "      <th>Province</th>\n",
       "      <th>Population</th>\n",
       "    </tr>\n",
       "  </thead>\n",
       "  <tbody>\n",
       "    <tr>\n",
       "      <th>0</th>\n",
       "      <td>Metro Manila</td>\n",
       "      <td>13484462</td>\n",
       "    </tr>\n",
       "    <tr>\n",
       "      <th>1</th>\n",
       "      <td>Cebu</td>\n",
       "      <td>5151274</td>\n",
       "    </tr>\n",
       "    <tr>\n",
       "      <th>2</th>\n",
       "      <td>Cavite</td>\n",
       "      <td>4344829</td>\n",
       "    </tr>\n",
       "    <tr>\n",
       "      <th>3</th>\n",
       "      <td>Bulacan</td>\n",
       "      <td>3708890</td>\n",
       "    </tr>\n",
       "    <tr>\n",
       "      <th>4</th>\n",
       "      <td>Laguna</td>\n",
       "      <td>3382193</td>\n",
       "    </tr>\n",
       "  </tbody>\n",
       "</table>\n",
       "</div>"
      ],
      "text/plain": [
       "       Province Population\n",
       "0  Metro Manila   13484462\n",
       "1          Cebu    5151274\n",
       "2        Cavite    4344829\n",
       "3       Bulacan    3708890\n",
       "4        Laguna    3382193"
      ]
     },
     "execution_count": 68,
     "metadata": {},
     "output_type": "execute_result"
    }
   ],
   "source": [
    "df_prov_pop['Population'] = df_prov_pop['Population'].str.replace(',','')\n",
    "\n",
    "df_prov_pop.head()"
   ]
  },
  {
   "cell_type": "code",
   "execution_count": 69,
   "metadata": {},
   "outputs": [
    {
     "data": {
      "text/plain": [
       "Province      object\n",
       "Population    object\n",
       "dtype: object"
      ]
     },
     "execution_count": 69,
     "metadata": {},
     "output_type": "execute_result"
    }
   ],
   "source": [
    "df_prov_pop.dtypes"
   ]
  },
  {
   "cell_type": "code",
   "execution_count": 70,
   "metadata": {},
   "outputs": [],
   "source": [
    "df_prov_pop[\"Population\"] = df_prov_pop[\"Population\"].astype('int')"
   ]
  },
  {
   "cell_type": "code",
   "execution_count": 71,
   "metadata": {},
   "outputs": [
    {
     "data": {
      "text/plain": [
       "Province      object\n",
       "Population     int32\n",
       "dtype: object"
      ]
     },
     "execution_count": 71,
     "metadata": {},
     "output_type": "execute_result"
    }
   ],
   "source": [
    "df_prov_pop.dtypes"
   ]
  },
  {
   "cell_type": "code",
   "execution_count": 72,
   "metadata": {},
   "outputs": [
    {
     "data": {
      "text/html": [
       "<div>\n",
       "<style scoped>\n",
       "    .dataframe tbody tr th:only-of-type {\n",
       "        vertical-align: middle;\n",
       "    }\n",
       "\n",
       "    .dataframe tbody tr th {\n",
       "        vertical-align: top;\n",
       "    }\n",
       "\n",
       "    .dataframe thead th {\n",
       "        text-align: right;\n",
       "    }\n",
       "</style>\n",
       "<table border=\"1\" class=\"dataframe\">\n",
       "  <thead>\n",
       "    <tr style=\"text-align: right;\">\n",
       "      <th></th>\n",
       "      <th>province</th>\n",
       "      <th>population</th>\n",
       "    </tr>\n",
       "  </thead>\n",
       "  <tbody>\n",
       "    <tr>\n",
       "      <th>0</th>\n",
       "      <td>Metro Manila</td>\n",
       "      <td>13484462</td>\n",
       "    </tr>\n",
       "    <tr>\n",
       "      <th>1</th>\n",
       "      <td>Cebu</td>\n",
       "      <td>5151274</td>\n",
       "    </tr>\n",
       "    <tr>\n",
       "      <th>2</th>\n",
       "      <td>Cavite</td>\n",
       "      <td>4344829</td>\n",
       "    </tr>\n",
       "    <tr>\n",
       "      <th>3</th>\n",
       "      <td>Bulacan</td>\n",
       "      <td>3708890</td>\n",
       "    </tr>\n",
       "    <tr>\n",
       "      <th>4</th>\n",
       "      <td>Laguna</td>\n",
       "      <td>3382193</td>\n",
       "    </tr>\n",
       "  </tbody>\n",
       "</table>\n",
       "</div>"
      ],
      "text/plain": [
       "       province  population\n",
       "0  Metro Manila    13484462\n",
       "1          Cebu     5151274\n",
       "2        Cavite     4344829\n",
       "3       Bulacan     3708890\n",
       "4        Laguna     3382193"
      ]
     },
     "execution_count": 72,
     "metadata": {},
     "output_type": "execute_result"
    }
   ],
   "source": [
    "df_prov_pop.columns = [x.lower() for x in df_prov_pop.columns]\n",
    "df_prov_pop.columns = df_prov_pop.columns.str.replace(\"[ ]\", \"_\", regex=True)\n",
    "df_prov_pop.head()"
   ]
  },
  {
   "cell_type": "code",
   "execution_count": 73,
   "metadata": {},
   "outputs": [],
   "source": [
    "df_prov_pop.to_csv(\"transformed_data/province_population.csv\", index = False)"
   ]
  },
  {
   "cell_type": "markdown",
   "metadata": {},
   "source": [
    "### Transform coordinates data"
   ]
  },
  {
   "cell_type": "code",
   "execution_count": 74,
   "metadata": {},
   "outputs": [
    {
     "data": {
      "text/html": [
       "<div>\n",
       "<style scoped>\n",
       "    .dataframe tbody tr th:only-of-type {\n",
       "        vertical-align: middle;\n",
       "    }\n",
       "\n",
       "    .dataframe tbody tr th {\n",
       "        vertical-align: top;\n",
       "    }\n",
       "\n",
       "    .dataframe thead th {\n",
       "        text-align: right;\n",
       "    }\n",
       "</style>\n",
       "<table border=\"1\" class=\"dataframe\">\n",
       "  <thead>\n",
       "    <tr style=\"text-align: right;\">\n",
       "      <th></th>\n",
       "      <th>Latitude</th>\n",
       "      <th>Longitude</th>\n",
       "    </tr>\n",
       "  </thead>\n",
       "  <tbody>\n",
       "    <tr>\n",
       "      <th>78</th>\n",
       "      <td>18.089133</td>\n",
       "      <td>121.193152</td>\n",
       "    </tr>\n",
       "    <tr>\n",
       "      <th>79</th>\n",
       "      <td>9.213120</td>\n",
       "      <td>123.515480</td>\n",
       "    </tr>\n",
       "    <tr>\n",
       "      <th>80</th>\n",
       "      <td>9.172630</td>\n",
       "      <td>124.719122</td>\n",
       "    </tr>\n",
       "    <tr>\n",
       "      <th>81</th>\n",
       "      <td>20.760404</td>\n",
       "      <td>121.836337</td>\n",
       "    </tr>\n",
       "    <tr>\n",
       "      <th>82</th>\n",
       "      <td>14.164863</td>\n",
       "      <td>120.861630</td>\n",
       "    </tr>\n",
       "  </tbody>\n",
       "</table>\n",
       "</div>"
      ],
      "text/plain": [
       "     Latitude   Longitude\n",
       "78  18.089133  121.193152\n",
       "79   9.213120  123.515480\n",
       "80   9.172630  124.719122\n",
       "81  20.760404  121.836337\n",
       "82  14.164863  120.861630"
      ]
     },
     "execution_count": 74,
     "metadata": {},
     "output_type": "execute_result"
    }
   ],
   "source": [
    "df_coordinates = pd.read_csv(\"extracted_data/province_coordinates.csv\")\n",
    "df_coordinates.tail()"
   ]
  },
  {
   "cell_type": "code",
   "execution_count": 75,
   "metadata": {},
   "outputs": [
    {
     "data": {
      "text/plain": [
       "Latitude     float64\n",
       "Longitude    float64\n",
       "dtype: object"
      ]
     },
     "execution_count": 75,
     "metadata": {},
     "output_type": "execute_result"
    }
   ],
   "source": [
    "df_coordinates.dtypes"
   ]
  },
  {
   "cell_type": "code",
   "execution_count": 76,
   "metadata": {},
   "outputs": [
    {
     "data": {
      "text/html": [
       "<div>\n",
       "<style scoped>\n",
       "    .dataframe tbody tr th:only-of-type {\n",
       "        vertical-align: middle;\n",
       "    }\n",
       "\n",
       "    .dataframe tbody tr th {\n",
       "        vertical-align: top;\n",
       "    }\n",
       "\n",
       "    .dataframe thead th {\n",
       "        text-align: right;\n",
       "    }\n",
       "</style>\n",
       "<table border=\"1\" class=\"dataframe\">\n",
       "  <thead>\n",
       "    <tr style=\"text-align: right;\">\n",
       "      <th></th>\n",
       "      <th>province</th>\n",
       "      <th>latitude</th>\n",
       "      <th>longitude</th>\n",
       "    </tr>\n",
       "  </thead>\n",
       "  <tbody>\n",
       "    <tr>\n",
       "      <th>0</th>\n",
       "      <td>Metro Manila</td>\n",
       "      <td>14.606798</td>\n",
       "      <td>121.032457</td>\n",
       "    </tr>\n",
       "    <tr>\n",
       "      <th>1</th>\n",
       "      <td>Cebu</td>\n",
       "      <td>10.299220</td>\n",
       "      <td>123.896190</td>\n",
       "    </tr>\n",
       "    <tr>\n",
       "      <th>2</th>\n",
       "      <td>Cavite</td>\n",
       "      <td>14.256197</td>\n",
       "      <td>120.870039</td>\n",
       "    </tr>\n",
       "    <tr>\n",
       "      <th>3</th>\n",
       "      <td>Bulacan</td>\n",
       "      <td>14.781080</td>\n",
       "      <td>120.878340</td>\n",
       "    </tr>\n",
       "    <tr>\n",
       "      <th>4</th>\n",
       "      <td>Laguna</td>\n",
       "      <td>14.239511</td>\n",
       "      <td>121.360971</td>\n",
       "    </tr>\n",
       "  </tbody>\n",
       "</table>\n",
       "</div>"
      ],
      "text/plain": [
       "       province   latitude   longitude\n",
       "0  Metro Manila  14.606798  121.032457\n",
       "1          Cebu  10.299220  123.896190\n",
       "2        Cavite  14.256197  120.870039\n",
       "3       Bulacan  14.781080  120.878340\n",
       "4        Laguna  14.239511  121.360971"
      ]
     },
     "execution_count": 76,
     "metadata": {},
     "output_type": "execute_result"
    }
   ],
   "source": [
    "df_prov_coordinates = pd.DataFrame(columns=['province','latitude', 'longitude'])\n",
    "\n",
    "df_prov_coordinates[\"province\"] = df_prov_pop.province\n",
    "df_prov_coordinates[\"latitude\"] = df_coordinates.Latitude\n",
    "df_prov_coordinates[\"longitude\"] = df_coordinates.Longitude\n",
    "\n",
    "df_prov_coordinates.head()"
   ]
  },
  {
   "cell_type": "code",
   "execution_count": 77,
   "metadata": {},
   "outputs": [
    {
     "data": {
      "text/plain": [
       "province     0\n",
       "latitude     0\n",
       "longitude    0\n",
       "dtype: int64"
      ]
     },
     "execution_count": 77,
     "metadata": {},
     "output_type": "execute_result"
    }
   ],
   "source": [
    "# Determine if there are missing values\n",
    "df_prov_coordinates.isnull().sum()"
   ]
  },
  {
   "cell_type": "code",
   "execution_count": 78,
   "metadata": {},
   "outputs": [],
   "source": [
    "df_prov_coordinates.to_csv(\"transformed_data/province_coordinates.csv\", index = False)"
   ]
  },
  {
   "cell_type": "markdown",
   "metadata": {},
   "source": [
    "### Transform venues data"
   ]
  },
  {
   "cell_type": "code",
   "execution_count": 79,
   "metadata": {},
   "outputs": [
    {
     "data": {
      "text/html": [
       "<div>\n",
       "<style scoped>\n",
       "    .dataframe tbody tr th:only-of-type {\n",
       "        vertical-align: middle;\n",
       "    }\n",
       "\n",
       "    .dataframe tbody tr th {\n",
       "        vertical-align: top;\n",
       "    }\n",
       "\n",
       "    .dataframe thead th {\n",
       "        text-align: right;\n",
       "    }\n",
       "</style>\n",
       "<table border=\"1\" class=\"dataframe\">\n",
       "  <thead>\n",
       "    <tr style=\"text-align: right;\">\n",
       "      <th></th>\n",
       "      <th>Province</th>\n",
       "      <th>Venue Name</th>\n",
       "      <th>Venue Category</th>\n",
       "      <th>Venue Lat</th>\n",
       "      <th>Venue Long</th>\n",
       "      <th>Address</th>\n",
       "    </tr>\n",
       "  </thead>\n",
       "  <tbody>\n",
       "    <tr>\n",
       "      <th>183</th>\n",
       "      <td>Philippines</td>\n",
       "      <td>Sigtuna Hall</td>\n",
       "      <td>Concert Hall</td>\n",
       "      <td>14.096842</td>\n",
       "      <td>120.938537</td>\n",
       "      <td>4120 Tagaytay, Cavite</td>\n",
       "    </tr>\n",
       "    <tr>\n",
       "      <th>184</th>\n",
       "      <td>Philippines</td>\n",
       "      <td>AUP Amphitheatre</td>\n",
       "      <td>Theater</td>\n",
       "      <td>14.215625</td>\n",
       "      <td>121.032162</td>\n",
       "      <td>4118 Silang, Cavite</td>\n",
       "    </tr>\n",
       "    <tr>\n",
       "      <th>185</th>\n",
       "      <td>Philippines</td>\n",
       "      <td>Aurora Ballroom</td>\n",
       "      <td>Concert Hall</td>\n",
       "      <td>14.124100</td>\n",
       "      <td>120.990700</td>\n",
       "      <td>4120 Tagaytay</td>\n",
       "    </tr>\n",
       "    <tr>\n",
       "      <th>186</th>\n",
       "      <td>Philippines</td>\n",
       "      <td>Olivarez College Amphitheatre</td>\n",
       "      <td>Amphitheater</td>\n",
       "      <td>14.118809</td>\n",
       "      <td>120.964013</td>\n",
       "      <td>4120 Tagaytay</td>\n",
       "    </tr>\n",
       "    <tr>\n",
       "      <th>187</th>\n",
       "      <td>Philippines</td>\n",
       "      <td>Rocina's Events Venue</td>\n",
       "      <td>Event Space</td>\n",
       "      <td>14.191610</td>\n",
       "      <td>120.992452</td>\n",
       "      <td>4118 Silang</td>\n",
       "    </tr>\n",
       "  </tbody>\n",
       "</table>\n",
       "</div>"
      ],
      "text/plain": [
       "        Province                     Venue Name Venue Category  Venue Lat  \\\n",
       "183  Philippines                   Sigtuna Hall   Concert Hall  14.096842   \n",
       "184  Philippines               AUP Amphitheatre        Theater  14.215625   \n",
       "185  Philippines                Aurora Ballroom   Concert Hall  14.124100   \n",
       "186  Philippines  Olivarez College Amphitheatre   Amphitheater  14.118809   \n",
       "187  Philippines          Rocina's Events Venue    Event Space  14.191610   \n",
       "\n",
       "     Venue Long                Address  \n",
       "183  120.938537  4120 Tagaytay, Cavite  \n",
       "184  121.032162    4118 Silang, Cavite  \n",
       "185  120.990700          4120 Tagaytay  \n",
       "186  120.964013          4120 Tagaytay  \n",
       "187  120.992452            4118 Silang  "
      ]
     },
     "execution_count": 79,
     "metadata": {},
     "output_type": "execute_result"
    }
   ],
   "source": [
    "df_venues = pd.read_csv(\"extracted_data/province_venues.csv\")\n",
    "df_venues.tail()"
   ]
  },
  {
   "cell_type": "code",
   "execution_count": 80,
   "metadata": {},
   "outputs": [
    {
     "data": {
      "text/html": [
       "<div>\n",
       "<style scoped>\n",
       "    .dataframe tbody tr th:only-of-type {\n",
       "        vertical-align: middle;\n",
       "    }\n",
       "\n",
       "    .dataframe tbody tr th {\n",
       "        vertical-align: top;\n",
       "    }\n",
       "\n",
       "    .dataframe thead th {\n",
       "        text-align: right;\n",
       "    }\n",
       "</style>\n",
       "<table border=\"1\" class=\"dataframe\">\n",
       "  <thead>\n",
       "    <tr style=\"text-align: right;\">\n",
       "      <th></th>\n",
       "      <th>province</th>\n",
       "      <th>venue_name</th>\n",
       "      <th>venue_category</th>\n",
       "      <th>venue_lat</th>\n",
       "      <th>venue_long</th>\n",
       "      <th>address</th>\n",
       "    </tr>\n",
       "  </thead>\n",
       "  <tbody>\n",
       "    <tr>\n",
       "      <th>183</th>\n",
       "      <td>Philippines</td>\n",
       "      <td>Sigtuna Hall</td>\n",
       "      <td>Concert Hall</td>\n",
       "      <td>14.096842</td>\n",
       "      <td>120.938537</td>\n",
       "      <td>4120 Tagaytay, Cavite</td>\n",
       "    </tr>\n",
       "    <tr>\n",
       "      <th>184</th>\n",
       "      <td>Philippines</td>\n",
       "      <td>AUP Amphitheatre</td>\n",
       "      <td>Theater</td>\n",
       "      <td>14.215625</td>\n",
       "      <td>121.032162</td>\n",
       "      <td>4118 Silang, Cavite</td>\n",
       "    </tr>\n",
       "    <tr>\n",
       "      <th>185</th>\n",
       "      <td>Philippines</td>\n",
       "      <td>Aurora Ballroom</td>\n",
       "      <td>Concert Hall</td>\n",
       "      <td>14.124100</td>\n",
       "      <td>120.990700</td>\n",
       "      <td>4120 Tagaytay</td>\n",
       "    </tr>\n",
       "    <tr>\n",
       "      <th>186</th>\n",
       "      <td>Philippines</td>\n",
       "      <td>Olivarez College Amphitheatre</td>\n",
       "      <td>Amphitheater</td>\n",
       "      <td>14.118809</td>\n",
       "      <td>120.964013</td>\n",
       "      <td>4120 Tagaytay</td>\n",
       "    </tr>\n",
       "    <tr>\n",
       "      <th>187</th>\n",
       "      <td>Philippines</td>\n",
       "      <td>Rocina's Events Venue</td>\n",
       "      <td>Event Space</td>\n",
       "      <td>14.191610</td>\n",
       "      <td>120.992452</td>\n",
       "      <td>4118 Silang</td>\n",
       "    </tr>\n",
       "  </tbody>\n",
       "</table>\n",
       "</div>"
      ],
      "text/plain": [
       "        province                     venue_name venue_category  venue_lat  \\\n",
       "183  Philippines                   Sigtuna Hall   Concert Hall  14.096842   \n",
       "184  Philippines               AUP Amphitheatre        Theater  14.215625   \n",
       "185  Philippines                Aurora Ballroom   Concert Hall  14.124100   \n",
       "186  Philippines  Olivarez College Amphitheatre   Amphitheater  14.118809   \n",
       "187  Philippines          Rocina's Events Venue    Event Space  14.191610   \n",
       "\n",
       "     venue_long                address  \n",
       "183  120.938537  4120 Tagaytay, Cavite  \n",
       "184  121.032162    4118 Silang, Cavite  \n",
       "185  120.990700          4120 Tagaytay  \n",
       "186  120.964013          4120 Tagaytay  \n",
       "187  120.992452            4118 Silang  "
      ]
     },
     "execution_count": 80,
     "metadata": {},
     "output_type": "execute_result"
    }
   ],
   "source": [
    "df_venues.columns = [x.lower() for x in df_venues.columns]\n",
    "df_venues.columns = df_venues.columns.str.replace(\"[ ]\", \"_\", regex=True)\n",
    "df_venues.tail()"
   ]
  },
  {
   "cell_type": "code",
   "execution_count": 81,
   "metadata": {},
   "outputs": [
    {
     "data": {
      "text/html": [
       "<div>\n",
       "<style scoped>\n",
       "    .dataframe tbody tr th:only-of-type {\n",
       "        vertical-align: middle;\n",
       "    }\n",
       "\n",
       "    .dataframe tbody tr th {\n",
       "        vertical-align: top;\n",
       "    }\n",
       "\n",
       "    .dataframe thead th {\n",
       "        text-align: right;\n",
       "    }\n",
       "</style>\n",
       "<table border=\"1\" class=\"dataframe\">\n",
       "  <thead>\n",
       "    <tr style=\"text-align: right;\">\n",
       "      <th></th>\n",
       "      <th>province</th>\n",
       "      <th>venue_name</th>\n",
       "      <th>venue_category</th>\n",
       "      <th>venue_lat</th>\n",
       "      <th>venue_long</th>\n",
       "      <th>address</th>\n",
       "    </tr>\n",
       "  </thead>\n",
       "  <tbody>\n",
       "    <tr>\n",
       "      <th>173</th>\n",
       "      <td>Guimaras</td>\n",
       "      <td>District 21 KTV</td>\n",
       "      <td>Music Venue</td>\n",
       "      <td>10.706619</td>\n",
       "      <td>122.552727</td>\n",
       "      <td>Diversion Road, 5000 Iloilo City, Iloilo</td>\n",
       "    </tr>\n",
       "    <tr>\n",
       "      <th>174</th>\n",
       "      <td>Guimaras</td>\n",
       "      <td>Musikous Jam And Rehearsal Studio</td>\n",
       "      <td>Music Venue</td>\n",
       "      <td>10.731152</td>\n",
       "      <td>122.552823</td>\n",
       "      <td>Cornercabangbang &amp; lopez jaena Street (cabangb...</td>\n",
       "    </tr>\n",
       "    <tr>\n",
       "      <th>175</th>\n",
       "      <td>Guimaras</td>\n",
       "      <td>The Mellow Mangrove</td>\n",
       "      <td>Bar</td>\n",
       "      <td>10.700688</td>\n",
       "      <td>122.558323</td>\n",
       "      <td>5000 Iloilo City, Iloilo</td>\n",
       "    </tr>\n",
       "    <tr>\n",
       "      <th>176</th>\n",
       "      <td>Mountain Province</td>\n",
       "      <td>Friends Country Music Bar</td>\n",
       "      <td>Concert Hall</td>\n",
       "      <td>16.917231</td>\n",
       "      <td>121.057959</td>\n",
       "      <td>3601 Banaue</td>\n",
       "    </tr>\n",
       "    <tr>\n",
       "      <th>177</th>\n",
       "      <td>Camiguin</td>\n",
       "      <td>Langob KTV Bar</td>\n",
       "      <td>Karaoke Bar</td>\n",
       "      <td>9.250046</td>\n",
       "      <td>124.715879</td>\n",
       "      <td>Rizal Street, 9100 Mambajao, Camiguin</td>\n",
       "    </tr>\n",
       "  </tbody>\n",
       "</table>\n",
       "</div>"
      ],
      "text/plain": [
       "              province                         venue_name venue_category  \\\n",
       "173           Guimaras                    District 21 KTV    Music Venue   \n",
       "174           Guimaras  Musikous Jam And Rehearsal Studio    Music Venue   \n",
       "175           Guimaras                The Mellow Mangrove            Bar   \n",
       "176  Mountain Province          Friends Country Music Bar   Concert Hall   \n",
       "177           Camiguin                     Langob KTV Bar    Karaoke Bar   \n",
       "\n",
       "     venue_lat  venue_long                                            address  \n",
       "173  10.706619  122.552727           Diversion Road, 5000 Iloilo City, Iloilo  \n",
       "174  10.731152  122.552823  Cornercabangbang & lopez jaena Street (cabangb...  \n",
       "175  10.700688  122.558323                           5000 Iloilo City, Iloilo  \n",
       "176  16.917231  121.057959                                        3601 Banaue  \n",
       "177   9.250046  124.715879              Rizal Street, 9100 Mambajao, Camiguin  "
      ]
     },
     "execution_count": 81,
     "metadata": {},
     "output_type": "execute_result"
    }
   ],
   "source": [
    "df_venues = df_venues[df_venues.province != \"Philippines\"]\n",
    "df_venues.tail()"
   ]
  },
  {
   "cell_type": "code",
   "execution_count": 82,
   "metadata": {},
   "outputs": [
    {
     "data": {
      "text/plain": [
       "province           object\n",
       "venue_name         object\n",
       "venue_category     object\n",
       "venue_lat         float64\n",
       "venue_long        float64\n",
       "address            object\n",
       "dtype: object"
      ]
     },
     "execution_count": 82,
     "metadata": {},
     "output_type": "execute_result"
    }
   ],
   "source": [
    "df_venues.dtypes"
   ]
  },
  {
   "cell_type": "code",
   "execution_count": 83,
   "metadata": {},
   "outputs": [
    {
     "data": {
      "text/html": [
       "<div>\n",
       "<style scoped>\n",
       "    .dataframe tbody tr th:only-of-type {\n",
       "        vertical-align: middle;\n",
       "    }\n",
       "\n",
       "    .dataframe tbody tr th {\n",
       "        vertical-align: top;\n",
       "    }\n",
       "\n",
       "    .dataframe thead th {\n",
       "        text-align: right;\n",
       "    }\n",
       "</style>\n",
       "<table border=\"1\" class=\"dataframe\">\n",
       "  <thead>\n",
       "    <tr style=\"text-align: right;\">\n",
       "      <th></th>\n",
       "      <th>province</th>\n",
       "      <th>venue_name</th>\n",
       "      <th>venue_category</th>\n",
       "      <th>venue_lat</th>\n",
       "      <th>venue_long</th>\n",
       "      <th>address</th>\n",
       "    </tr>\n",
       "  </thead>\n",
       "  <tbody>\n",
       "    <tr>\n",
       "      <th>88</th>\n",
       "      <td>Quezon</td>\n",
       "      <td>The Big Tent Venue</td>\n",
       "      <td>Rest Area</td>\n",
       "      <td>14.685582</td>\n",
       "      <td>121.075426</td>\n",
       "      <td>Holy Spirit Drv., Quezon City, Quezon City</td>\n",
       "    </tr>\n",
       "    <tr>\n",
       "      <th>89</th>\n",
       "      <td>Quezon</td>\n",
       "      <td>The Venue</td>\n",
       "      <td>Other Great Outdoors</td>\n",
       "      <td>14.614474</td>\n",
       "      <td>121.120709</td>\n",
       "      <td>NaN</td>\n",
       "    </tr>\n",
       "    <tr>\n",
       "      <th>90</th>\n",
       "      <td>Quezon</td>\n",
       "      <td>BGC Arts Center</td>\n",
       "      <td>Performing Arts Venue</td>\n",
       "      <td>14.547880</td>\n",
       "      <td>121.049943</td>\n",
       "      <td>26th Street (at 9th Ave), 1600 Taguig</td>\n",
       "    </tr>\n",
       "    <tr>\n",
       "      <th>91</th>\n",
       "      <td>Quezon</td>\n",
       "      <td>Cowboy Grill</td>\n",
       "      <td>Music Venue</td>\n",
       "      <td>14.578320</td>\n",
       "      <td>120.980635</td>\n",
       "      <td>A. Mabini Corner Arquiza Street (Arquiza st), ...</td>\n",
       "    </tr>\n",
       "    <tr>\n",
       "      <th>92</th>\n",
       "      <td>Quezon</td>\n",
       "      <td>Peta Theater Center</td>\n",
       "      <td>Music Venue</td>\n",
       "      <td>14.624319</td>\n",
       "      <td>121.026294</td>\n",
       "      <td>Street Peter Julian Eymard Drive, 1112 Quezon ...</td>\n",
       "    </tr>\n",
       "  </tbody>\n",
       "</table>\n",
       "</div>"
      ],
      "text/plain": [
       "   province           venue_name         venue_category  venue_lat  \\\n",
       "88   Quezon   The Big Tent Venue              Rest Area  14.685582   \n",
       "89   Quezon            The Venue   Other Great Outdoors  14.614474   \n",
       "90   Quezon      BGC Arts Center  Performing Arts Venue  14.547880   \n",
       "91   Quezon         Cowboy Grill            Music Venue  14.578320   \n",
       "92   Quezon  Peta Theater Center            Music Venue  14.624319   \n",
       "\n",
       "    venue_long                                            address  \n",
       "88  121.075426         Holy Spirit Drv., Quezon City, Quezon City  \n",
       "89  121.120709                                                NaN  \n",
       "90  121.049943              26th Street (at 9th Ave), 1600 Taguig  \n",
       "91  120.980635  A. Mabini Corner Arquiza Street (Arquiza st), ...  \n",
       "92  121.026294  Street Peter Julian Eymard Drive, 1112 Quezon ...  "
      ]
     },
     "execution_count": 83,
     "metadata": {},
     "output_type": "execute_result"
    }
   ],
   "source": [
    "df_quezon = df_venues[df_venues.province == \"Quezon\"]\n",
    "df_quezon.head()"
   ]
  },
  {
   "cell_type": "code",
   "execution_count": 84,
   "metadata": {},
   "outputs": [
    {
     "name": "stderr",
     "output_type": "stream",
     "text": [
      "C:\\Users\\Sandy Lauguico\\AppData\\Local\\Temp\\ipykernel_107548\\1105046765.py:1: SettingWithCopyWarning: \n",
      "A value is trying to be set on a copy of a slice from a DataFrame.\n",
      "Try using .loc[row_indexer,col_indexer] = value instead\n",
      "\n",
      "See the caveats in the documentation: https://pandas.pydata.org/pandas-docs/stable/user_guide/indexing.html#returning-a-view-versus-a-copy\n",
      "  df_quezon.province = \"Metro Manila\"\n"
     ]
    },
    {
     "data": {
      "text/html": [
       "<div>\n",
       "<style scoped>\n",
       "    .dataframe tbody tr th:only-of-type {\n",
       "        vertical-align: middle;\n",
       "    }\n",
       "\n",
       "    .dataframe tbody tr th {\n",
       "        vertical-align: top;\n",
       "    }\n",
       "\n",
       "    .dataframe thead th {\n",
       "        text-align: right;\n",
       "    }\n",
       "</style>\n",
       "<table border=\"1\" class=\"dataframe\">\n",
       "  <thead>\n",
       "    <tr style=\"text-align: right;\">\n",
       "      <th></th>\n",
       "      <th>province</th>\n",
       "      <th>venue_name</th>\n",
       "      <th>venue_category</th>\n",
       "      <th>venue_lat</th>\n",
       "      <th>venue_long</th>\n",
       "      <th>address</th>\n",
       "    </tr>\n",
       "  </thead>\n",
       "  <tbody>\n",
       "    <tr>\n",
       "      <th>88</th>\n",
       "      <td>Metro Manila</td>\n",
       "      <td>The Big Tent Venue</td>\n",
       "      <td>Rest Area</td>\n",
       "      <td>14.685582</td>\n",
       "      <td>121.075426</td>\n",
       "      <td>Holy Spirit Drv., Quezon City, Quezon City</td>\n",
       "    </tr>\n",
       "    <tr>\n",
       "      <th>89</th>\n",
       "      <td>Metro Manila</td>\n",
       "      <td>The Venue</td>\n",
       "      <td>Other Great Outdoors</td>\n",
       "      <td>14.614474</td>\n",
       "      <td>121.120709</td>\n",
       "      <td>NaN</td>\n",
       "    </tr>\n",
       "    <tr>\n",
       "      <th>90</th>\n",
       "      <td>Metro Manila</td>\n",
       "      <td>BGC Arts Center</td>\n",
       "      <td>Performing Arts Venue</td>\n",
       "      <td>14.547880</td>\n",
       "      <td>121.049943</td>\n",
       "      <td>26th Street (at 9th Ave), 1600 Taguig</td>\n",
       "    </tr>\n",
       "    <tr>\n",
       "      <th>91</th>\n",
       "      <td>Metro Manila</td>\n",
       "      <td>Cowboy Grill</td>\n",
       "      <td>Music Venue</td>\n",
       "      <td>14.578320</td>\n",
       "      <td>120.980635</td>\n",
       "      <td>A. Mabini Corner Arquiza Street (Arquiza st), ...</td>\n",
       "    </tr>\n",
       "    <tr>\n",
       "      <th>92</th>\n",
       "      <td>Metro Manila</td>\n",
       "      <td>Peta Theater Center</td>\n",
       "      <td>Music Venue</td>\n",
       "      <td>14.624319</td>\n",
       "      <td>121.026294</td>\n",
       "      <td>Street Peter Julian Eymard Drive, 1112 Quezon ...</td>\n",
       "    </tr>\n",
       "  </tbody>\n",
       "</table>\n",
       "</div>"
      ],
      "text/plain": [
       "        province           venue_name         venue_category  venue_lat  \\\n",
       "88  Metro Manila   The Big Tent Venue              Rest Area  14.685582   \n",
       "89  Metro Manila            The Venue   Other Great Outdoors  14.614474   \n",
       "90  Metro Manila      BGC Arts Center  Performing Arts Venue  14.547880   \n",
       "91  Metro Manila         Cowboy Grill            Music Venue  14.578320   \n",
       "92  Metro Manila  Peta Theater Center            Music Venue  14.624319   \n",
       "\n",
       "    venue_long                                            address  \n",
       "88  121.075426         Holy Spirit Drv., Quezon City, Quezon City  \n",
       "89  121.120709                                                NaN  \n",
       "90  121.049943              26th Street (at 9th Ave), 1600 Taguig  \n",
       "91  120.980635  A. Mabini Corner Arquiza Street (Arquiza st), ...  \n",
       "92  121.026294  Street Peter Julian Eymard Drive, 1112 Quezon ...  "
      ]
     },
     "execution_count": 84,
     "metadata": {},
     "output_type": "execute_result"
    }
   ],
   "source": [
    "df_quezon.province = \"Metro Manila\"\n",
    "df_quezon.head()"
   ]
  },
  {
   "cell_type": "code",
   "execution_count": 85,
   "metadata": {},
   "outputs": [],
   "source": [
    "df_venues_qc_filtered = df_venues[df_venues.province != \"Quezon\"]"
   ]
  },
  {
   "cell_type": "code",
   "execution_count": 86,
   "metadata": {},
   "outputs": [
    {
     "data": {
      "text/html": [
       "<div>\n",
       "<style scoped>\n",
       "    .dataframe tbody tr th:only-of-type {\n",
       "        vertical-align: middle;\n",
       "    }\n",
       "\n",
       "    .dataframe tbody tr th {\n",
       "        vertical-align: top;\n",
       "    }\n",
       "\n",
       "    .dataframe thead th {\n",
       "        text-align: right;\n",
       "    }\n",
       "</style>\n",
       "<table border=\"1\" class=\"dataframe\">\n",
       "  <thead>\n",
       "    <tr style=\"text-align: right;\">\n",
       "      <th></th>\n",
       "      <th>province</th>\n",
       "      <th>venue_name</th>\n",
       "      <th>venue_category</th>\n",
       "      <th>venue_lat</th>\n",
       "      <th>venue_long</th>\n",
       "      <th>address</th>\n",
       "    </tr>\n",
       "  </thead>\n",
       "  <tbody>\n",
       "    <tr>\n",
       "      <th>78</th>\n",
       "      <td>Iloilo</td>\n",
       "      <td>Tiesto</td>\n",
       "      <td>Music Venue</td>\n",
       "      <td>10.702554</td>\n",
       "      <td>122.551145</td>\n",
       "      <td>Boardwalk Avenue, 5000 Iloilo City, Iloilo</td>\n",
       "    </tr>\n",
       "    <tr>\n",
       "      <th>79</th>\n",
       "      <td>Iloilo</td>\n",
       "      <td>Room 9 M02 Annex</td>\n",
       "      <td>Music Venue</td>\n",
       "      <td>10.704833</td>\n",
       "      <td>122.551028</td>\n",
       "      <td>NaN</td>\n",
       "    </tr>\n",
       "    <tr>\n",
       "      <th>80</th>\n",
       "      <td>Iloilo</td>\n",
       "      <td>MO2 Annex</td>\n",
       "      <td>Music Venue</td>\n",
       "      <td>10.705117</td>\n",
       "      <td>122.550705</td>\n",
       "      <td>NaN</td>\n",
       "    </tr>\n",
       "    <tr>\n",
       "      <th>81</th>\n",
       "      <td>Iloilo</td>\n",
       "      <td>Musikous Jam And Rehearsal Studio</td>\n",
       "      <td>Music Venue</td>\n",
       "      <td>10.731152</td>\n",
       "      <td>122.552823</td>\n",
       "      <td>Cornercabangbang &amp; lopez jaena Street (cabangb...</td>\n",
       "    </tr>\n",
       "    <tr>\n",
       "      <th>82</th>\n",
       "      <td>Iloilo</td>\n",
       "      <td>The Mellow Mangrove</td>\n",
       "      <td>Bar</td>\n",
       "      <td>10.700688</td>\n",
       "      <td>122.558323</td>\n",
       "      <td>5000 Iloilo City, Iloilo</td>\n",
       "    </tr>\n",
       "    <tr>\n",
       "      <th>...</th>\n",
       "      <td>...</td>\n",
       "      <td>...</td>\n",
       "      <td>...</td>\n",
       "      <td>...</td>\n",
       "      <td>...</td>\n",
       "      <td>...</td>\n",
       "    </tr>\n",
       "    <tr>\n",
       "      <th>93</th>\n",
       "      <td>Metro Manila</td>\n",
       "      <td>70's Bistro</td>\n",
       "      <td>Rock Club</td>\n",
       "      <td>14.630650</td>\n",
       "      <td>121.061519</td>\n",
       "      <td>46 Anonas Street, 1102 Quezon City, Quezon City</td>\n",
       "    </tr>\n",
       "    <tr>\n",
       "      <th>94</th>\n",
       "      <td>Metro Manila</td>\n",
       "      <td>Philippine International Convention Center</td>\n",
       "      <td>Convention Center</td>\n",
       "      <td>14.554414</td>\n",
       "      <td>120.983190</td>\n",
       "      <td>CCP Complex, Roxas Boulevard, 1307 Pasay, Pasa...</td>\n",
       "    </tr>\n",
       "    <tr>\n",
       "      <th>95</th>\n",
       "      <td>Metro Manila</td>\n",
       "      <td>Sky Dome</td>\n",
       "      <td>Amphitheater</td>\n",
       "      <td>14.655750</td>\n",
       "      <td>121.031423</td>\n",
       "      <td>Sky Garden, SM City North EDSA Complex (btwn E...</td>\n",
       "    </tr>\n",
       "    <tr>\n",
       "      <th>96</th>\n",
       "      <td>Metro Manila</td>\n",
       "      <td>The PICC Forum</td>\n",
       "      <td>Business and Professional Services</td>\n",
       "      <td>14.555209</td>\n",
       "      <td>120.984351</td>\n",
       "      <td>Roxas Boulevard, Pasay, Pasay City</td>\n",
       "    </tr>\n",
       "    <tr>\n",
       "      <th>97</th>\n",
       "      <td>Metro Manila</td>\n",
       "      <td>UP College of Music Mini Hall</td>\n",
       "      <td>Music Venue</td>\n",
       "      <td>14.655436</td>\n",
       "      <td>121.061693</td>\n",
       "      <td>1101 Quezon City, Quezon City</td>\n",
       "    </tr>\n",
       "  </tbody>\n",
       "</table>\n",
       "<p>100 rows × 6 columns</p>\n",
       "</div>"
      ],
      "text/plain": [
       "        province                                  venue_name  \\\n",
       "78        Iloilo                                      Tiesto   \n",
       "79        Iloilo                            Room 9 M02 Annex   \n",
       "80        Iloilo                                   MO2 Annex   \n",
       "81        Iloilo           Musikous Jam And Rehearsal Studio   \n",
       "82        Iloilo                         The Mellow Mangrove   \n",
       "..           ...                                         ...   \n",
       "93  Metro Manila                                 70's Bistro   \n",
       "94  Metro Manila  Philippine International Convention Center   \n",
       "95  Metro Manila                                    Sky Dome   \n",
       "96  Metro Manila                              The PICC Forum   \n",
       "97  Metro Manila               UP College of Music Mini Hall   \n",
       "\n",
       "                        venue_category  venue_lat  venue_long  \\\n",
       "78                         Music Venue  10.702554  122.551145   \n",
       "79                         Music Venue  10.704833  122.551028   \n",
       "80                         Music Venue  10.705117  122.550705   \n",
       "81                         Music Venue  10.731152  122.552823   \n",
       "82                                 Bar  10.700688  122.558323   \n",
       "..                                 ...        ...         ...   \n",
       "93                           Rock Club  14.630650  121.061519   \n",
       "94                   Convention Center  14.554414  120.983190   \n",
       "95                        Amphitheater  14.655750  121.031423   \n",
       "96  Business and Professional Services  14.555209  120.984351   \n",
       "97                         Music Venue  14.655436  121.061693   \n",
       "\n",
       "                                              address  \n",
       "78         Boardwalk Avenue, 5000 Iloilo City, Iloilo  \n",
       "79                                                NaN  \n",
       "80                                                NaN  \n",
       "81  Cornercabangbang & lopez jaena Street (cabangb...  \n",
       "82                           5000 Iloilo City, Iloilo  \n",
       "..                                                ...  \n",
       "93    46 Anonas Street, 1102 Quezon City, Quezon City  \n",
       "94  CCP Complex, Roxas Boulevard, 1307 Pasay, Pasa...  \n",
       "95  Sky Garden, SM City North EDSA Complex (btwn E...  \n",
       "96                 Roxas Boulevard, Pasay, Pasay City  \n",
       "97                      1101 Quezon City, Quezon City  \n",
       "\n",
       "[100 rows x 6 columns]"
      ]
     },
     "execution_count": 86,
     "metadata": {},
     "output_type": "execute_result"
    }
   ],
   "source": [
    "df_venues_transformed = pd.concat([df_venues_qc_filtered, df_quezon])\n",
    "df_venues_transformed.tail(100)"
   ]
  },
  {
   "cell_type": "code",
   "execution_count": 87,
   "metadata": {},
   "outputs": [
    {
     "data": {
      "text/plain": [
       "array(['Metro Manila', 'Cebu', 'Cavite', 'Bulacan', 'Laguna', 'Rizal',\n",
       "       'Pangasinan', 'Batangas', 'Pampanga', 'Iloilo', 'Davao del Sur',\n",
       "       'Nueva Ecija', 'Camarines Sur', 'Zamboanga del Sur',\n",
       "       'Misamis Oriental', 'Maguindanao', 'Bukidnon', 'Tarlac',\n",
       "       'Cotabato', 'Bohol', 'Albay', 'Lanao del Sur', 'Sultan Kudarat',\n",
       "       'Bataan', 'Benguet', 'La Union', 'Samar', 'Agusan del Norte',\n",
       "       'Ilocos Sur', 'Surigao del Sur', 'Aklan', 'Ilocos Norte',\n",
       "       'Sarangani', 'Occidental Mindoro', 'Nueva Vizcaya',\n",
       "       'Eastern Samar', 'Aurora', 'Ifugao', 'Quirino', 'Guimaras',\n",
       "       'Mountain Province', 'Camiguin'], dtype=object)"
      ]
     },
     "execution_count": 87,
     "metadata": {},
     "output_type": "execute_result"
    }
   ],
   "source": [
    "df_venues_transformed.province.unique()"
   ]
  },
  {
   "cell_type": "code",
   "execution_count": 88,
   "metadata": {},
   "outputs": [],
   "source": [
    "df_venues_transformed.to_csv(\"transformed_data/province_venues.csv\", index = False)"
   ]
  },
  {
   "cell_type": "code",
   "execution_count": null,
   "metadata": {},
   "outputs": [],
   "source": []
  }
 ],
 "metadata": {
  "kernelspec": {
   "display_name": "base",
   "language": "python",
   "name": "python3"
  },
  "language_info": {
   "codemirror_mode": {
    "name": "ipython",
    "version": 3
   },
   "file_extension": ".py",
   "mimetype": "text/x-python",
   "name": "python",
   "nbconvert_exporter": "python",
   "pygments_lexer": "ipython3",
   "version": "3.11.5"
  }
 },
 "nbformat": 4,
 "nbformat_minor": 2
}
